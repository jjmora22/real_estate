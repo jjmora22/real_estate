{
 "cells": [
  {
   "cell_type": "markdown",
   "metadata": {},
   "source": [
    "# Clustering\n",
    "\n",
    "Clustering o agrupamiento es una estrategia de aprendizaje no supervisado en el cual se agrupan elementos que presentan características **similares**.\n",
    "\n",
    "### Ejemplo:\n",
    "\n",
    "Tenemos los siguientes serer vivos:\n",
    "* vaca\n",
    "* calamar\n",
    "* perro\n",
    "* sepia\n",
    "* petunia\n",
    "* ornitorrinco\n",
    "* abeto\n",
    "* naranjo\n",
    "\n",
    "Queremos clasificarlos en **3 grupos** basándonos en sus características. Una posible clasificación sería:\n",
    "* Grupo 1: vaca, perro, ornitorrinco\n",
    "* Grupo 2: calamar, sepia\n",
    "* Grupo 3: abeto, naranjo, petunia\n",
    "\n",
    "Podemos hacer una clasificación jerárquica basada en similitudes:\n",
    "\n",
    "\n",
    "![](img/organismos.png)"
   ]
  },
  {
   "cell_type": "markdown",
   "metadata": {},
   "source": [
    "## Distancias\n",
    "\n",
    "Antes de podes agrupar elementos por su similitud tenemos que definir la *similitud*. Para ello vamos a crear una media de la diferencia, de como de separados están dos elementos del grupo. Ejemplos de distancias:\n",
    "* Distancia Euclídea: $L_2$=$\\left \\|  \\vec{a}-\\vec{b} \\right \\|_2 = \\sqrt{\\sum_i \\left ( a_i-b_i \\right )^2}$\n",
    "* Distancia Manhattan: $L_1$=$\\left \\|  \\vec{a}-\\vec{b} \\right \\| =  \\sum_i \\left \\| a_i-b_i \\right \\| $\n",
    "* Distancia Minkowsky: $\\left \\|  \\vec{a}-\\vec{b} \\right \\|_p = \\left ( \\sum_i \\mid a_i-b_i \\mid^p \\right )^\\frac{1}{p}$\n",
    "![](img/distancia.png)\n",
    "\n",
    "Distancia con textos:\n",
    "* Distancia Hamming: La distancia de hamming entre dos cadenas de igual longitud es el número de posiciones en el cual los simbolos son diferentes.\n",
    "* Distancia Levenshtein: La distancia Levenshtein entre dos palabras es el mínimo número de ediciones de un solo caracter (inserción, eliminación o sustitución) para que las dos palabras sean iguales.\n",
    "\n",
    "\n",
    "Más sobre distancias:\n",
    "\n",
    "https://towardsdatascience.com/9-distance-measures-in-data-science-918109d069fa"
   ]
  },
  {
   "cell_type": "markdown",
   "metadata": {},
   "source": [
    "## Métodos de clustering\n",
    "\n",
    "### Particionado\n",
    "\n",
    "#### K-means\n",
    "\n",
    "Se basa en centroides. El centroide o centro geométrico es el punto resultante de la media aritmética de la posición de todos los puntos.\n",
    "\n",
    "\n",
    "```\n",
    "1 - elige k centroides al azar\n",
    "2 - asigna el elemento al centroide más cercano\n",
    "3 - recalcular centroides\n",
    "4 - Repetir desde 2 mientras los centroides se sigan actualizando.\n",
    "```"
   ]
  },
  {
   "cell_type": "code",
   "execution_count": null,
   "metadata": {},
   "outputs": [],
   "source": [
    "options(repr.plot.height=4,repr.plot.width=6,repr.plot.res = 300)\n",
    "\n",
    "\n",
    "N<-300\n",
    "x1<-c(rnorm(N,mean=2,sd=2),rnorm(N,mean=-2,sd=2),rnorm(N,mean=-5,sd=1))\n",
    "x2<-c(0.4*x1+c(rnorm(N,mean=3,sd=2),rnorm(N,mean=-3,sd=1),rnorm(N,mean=7,sd=1)))\n",
    "df<-data.frame(x1,x2)\n",
    "\n",
    "library(ggplot2)\n",
    "ggplot(data=df, aes(x=x1,y=x2))+geom_point(alpha=0.7)"
   ]
  },
  {
   "cell_type": "code",
   "execution_count": null,
   "metadata": {},
   "outputs": [],
   "source": [
    "mydistance<-function(v1,v2){\n",
    "        sqrt((v1[1]-v2[1])^2+(v1[2]-v2[2])^2)\n",
    "}\n",
    "\n",
    "assign_points_to_centroid<-function(mydata,centroids){        \n",
    "    group<-rep(NA,nrow(mydata))\n",
    "    for (i in 1:nrow(mydata)){\n",
    "        distance_to_centroids<-rep(NA,nrow(centroids))\n",
    "        for (j in 1:nrow(centroids)){\n",
    "            distance_to_centroids[j]<-mydistance(mydata[i,],centroids[j,])\n",
    "        }        \n",
    "        group[i]<-which.min(distance_to_centroids)\n",
    "    }   \n",
    "    group\n",
    "}\n",
    "\n",
    "get_new_centroids<-function(mydata,group){\n",
    "    k<-length(unique(group))\n",
    "    centroids<-data.frame(x1=rep(NA,k),x2=rep(NA,k))\n",
    "    for (i in 1:k){\n",
    "        idx<-which(i == group)        \n",
    "        centroids[i,]<-colMeans(mydata[idx,])\n",
    "    }\n",
    "    centroids\n",
    "}\n",
    "\n",
    "plot_all<-function(mydata,centroids,group){\n",
    "    mydata$group<-factor(group)\n",
    "    mydata$centroidx1<-centroids$x1[group]\n",
    "    mydata$centroidx2<-centroids$x2[group]\n",
    "    ggplot(data=mydata,aes(x=x1,y=x2))+geom_point(color=group,size=0.5)+\n",
    "        geom_point(aes(x=centroidx1,y=centroidx2),shape=\"*\",size=5,color=\"purple\")\n",
    "}\n",
    "\n",
    "\n",
    "#centroids<-data.frame(x1=c(1,2),x2=c(1,1))\n",
    "#centroids<-data.frame(x1=c(1,2,3),x2=c(1,1,1))\n",
    "centroids\n",
    "group<-assign_points_to_centroid(df,centroids)\n",
    "plot_all(df,centroids,group)\n",
    "\n",
    "centroids<-get_new_centroids(df,group)\n",
    "centroids"
   ]
  },
  {
   "cell_type": "markdown",
   "metadata": {},
   "source": [
    "Este algorimo lo implementa R:\n",
    "```\n",
    "kmeans(data.frame, k)\n",
    "```"
   ]
  },
  {
   "cell_type": "code",
   "execution_count": null,
   "metadata": {},
   "outputs": [],
   "source": [
    "myclust<-kmeans(df,3)\n",
    "print(\"Los centroides son\")\n",
    "myclust$centers\n",
    "#myclust$cluster"
   ]
  },
  {
   "cell_type": "code",
   "execution_count": null,
   "metadata": {},
   "outputs": [],
   "source": [
    "myclust$centers[,\"x2\"]"
   ]
  },
  {
   "cell_type": "code",
   "execution_count": null,
   "metadata": {},
   "outputs": [],
   "source": [
    "str(myclust)"
   ]
  },
  {
   "cell_type": "code",
   "execution_count": null,
   "metadata": {},
   "outputs": [],
   "source": [
    "table(myclust$cluster)\n",
    "#myclust$cluster"
   ]
  },
  {
   "cell_type": "code",
   "execution_count": null,
   "metadata": {},
   "outputs": [],
   "source": [
    "cl<-factor(myclust$cluster)\n",
    "\n",
    "clustered<-cbind(df,group=cl)\n",
    "clustered$centroidx1<-myclust$centers[group,\"x1\"]\n",
    "clustered$centroidx2<-myclust$centers[group,\"x2\"]\n",
    "ggplot(data=clustered,aes(x=x1,y=x2))+geom_point(aes(color=group),size=0.5)+\n",
    "    geom_point(aes(x=centroidx1,y=centroidx2),shape=\"*\",size=5,color=\"purple\")\n",
    "\n",
    "summary(clustered)\n"
   ]
  },
  {
   "cell_type": "markdown",
   "metadata": {},
   "source": [
    "### Medidas de la calidad de un cluster\n",
    "\n",
    "Un cluster tiene que cumplir dos propiedades:\n",
    "* Los elementos dentro de un mismo grupo tienen que estar lo más cerca posible entre si. La distancia media *intracluster* tiene que ser baja.\n",
    "![](img/intragrupo.png)\n",
    "\n",
    "* Los elementos de distintos grupos tienen que estar lo más lejos posibles uno de otro. La distancia media *intercluster* tiene que ser alta.\n",
    "![](img/intergrupo.png)\n",
    "\n",
    "\n",
    "Una forma de medirlo es con el SSE (Sum Square Errors).\n",
    "\n",
    "* $SSE_{intra}$: Se define para cada grupo. Es la suma de distancias al cuadrado entre los puntos de un cluster y el centroide.\n",
    "* $SSE_{inter}$: Se define para todos. Es la suma de las distancias al cuadrado entre los centroides de un cluster (ponderado al número de elementos del cluster) y el centroide de los centroides.\n",
    "* $SSE_{total}$: $SSE_{inter}$+$\\sum SSE_{intra}$\n",
    "\n",
    "Una forma de medir la calidad de un cluster es el ratio:\n",
    "\\\\[\n",
    "\\frac{SSE_{inter}}{SSE_{total}}\n",
    "\\\\]\n",
    "Cuanto más cercano a 1, mejor es la división entre clusters"
   ]
  },
  {
   "cell_type": "code",
   "execution_count": null,
   "metadata": {},
   "outputs": [],
   "source": [
    "paste(\"SSE intra:\", paste(round(myclust$withinss),collapse=\", \"))\n",
    "paste(\"SSE inter:\", myclust$betweenss)\n",
    "paste(\"SSE total:\", myclust$totss)\n",
    "paste(\"SSE total:\", sum(myclust$withinss)+myclust$betweenss)"
   ]
  },
  {
   "cell_type": "code",
   "execution_count": null,
   "metadata": {},
   "outputs": [],
   "source": [
    "sse_per_cluser<-function(mydata_all,group,centroids){\n",
    "    ssq<-rep(NA,nrow(centroids))\n",
    "    for (k in 1:nrow(centroids)){\n",
    "        mydata<-mydata_all[group==k,]\n",
    "        h<-0\n",
    "        for (i in 1:nrow(mydata)){            \n",
    "            h<-h+sum((mydata[i,]-centroids[k,])^2)\n",
    "        }        \n",
    "        ssq[k]<-h\n",
    "    }\n",
    "    ssq\n",
    "}\n",
    "#sse_per_cluser(df,group,centroids)\n",
    "sse_per_cluser(df,myclust$cluster,myclust$centers)"
   ]
  },
  {
   "cell_type": "code",
   "execution_count": null,
   "metadata": {},
   "outputs": [],
   "source": [
    "sse_betweeness<-function(group,centroids){\n",
    "    sum((centroids[group,1]-mean(centroids[group,1]))^2)+\n",
    "    sum((centroids[group,2]-mean(centroids[group,2]))^2)\n",
    "}\n",
    "#sse_betweeness(group,centroids)\n",
    "sse_betweeness(myclust$cluster,myclust$centers)"
   ]
  },
  {
   "cell_type": "markdown",
   "metadata": {},
   "source": [
    "### Determinando el número óptimo de clusters para k-means\n",
    "\n",
    "No existe una regla fija para determinar el número de grupos. Podemos pintar como evoluciona el error cuadrádico y cuando deje de mejorar rápidamente establecer como el número de clusters."
   ]
  },
  {
   "cell_type": "code",
   "execution_count": null,
   "metadata": {},
   "outputs": [],
   "source": [
    "q<-c()\n",
    "for (k in 1:8){\n",
    "    myclust<-kmeans(df,k)\n",
    "    q[k]<-myclust$betweenss/myclust$totss\n",
    "}\n",
    "plot(q)"
   ]
  },
  {
   "cell_type": "markdown",
   "metadata": {},
   "source": [
    "Otra forma es mirando $\\sum SSE_{intra}$:"
   ]
  },
  {
   "cell_type": "code",
   "execution_count": null,
   "metadata": {},
   "outputs": [],
   "source": [
    "q<-c()\n",
    "for (k in 1:8){\n",
    "    myclust<-kmeans(df,k)\n",
    "    q[k]<-sum(myclust$withinss)\n",
    "}\n",
    "plot(q)"
   ]
  },
  {
   "cell_type": "markdown",
   "metadata": {},
   "source": [
    "#### Ejemplo Iris\n",
    "\n",
    "Conjunto de datos de iris (de Fisher o Anderson) da las medidas en centímetros de las variables longitud y ancho del sépalo y longitud y ancho del pétalo, respectivamente, para 50 flores de cada una de las 3 especies de iris. Las especies son Iris setosa, versicolor y virginica."
   ]
  },
  {
   "cell_type": "code",
   "execution_count": null,
   "metadata": {},
   "outputs": [],
   "source": [
    "boxplot(iris)\n",
    "summary(iris)"
   ]
  },
  {
   "cell_type": "code",
   "execution_count": null,
   "metadata": {},
   "outputs": [],
   "source": [
    "iris_data<-iris[,1:4]\n",
    "\n",
    "for (i in 1:ncol(iris_data)){     \n",
    "    mn<-mean(iris_data[,i],na.rm = T)\n",
    "    sd<-sd(iris_data[,i],na.rm = T)\n",
    "    \n",
    "    iris_data[,i]<-(iris_data[,i]-mn)/sd    \n",
    "}\n",
    "q<-c()\n",
    "for (k in 1:20){\n",
    "    myclust<-kmeans(iris_data,k)\n",
    "    q[k]<-myclust$betweenss/myclust$totss\n",
    "}\n",
    "plot(q)"
   ]
  },
  {
   "cell_type": "code",
   "execution_count": null,
   "metadata": {},
   "outputs": [],
   "source": [
    "myclust<-kmeans(iris_data,3)\n",
    "#cbind(iris,cl=myclust$cluster)\n",
    "table(iris$Species,myclust$cluster)"
   ]
  },
  {
   "cell_type": "markdown",
   "metadata": {},
   "source": [
    "#### Ejemplo proteinas\n",
    "\n",
    "\n",
    "https://archive.ics.uci.edu/ml/datasets/Mice+Protein+Expression\n",
    "\n",
    "El conjunto de datos consiste en los niveles de expresión de 77 proteínas / modificaciones de proteínas que produjeron señales detectables en la fracción nuclear de la corteza. Hay 38 ratones de control y 34 ratones trisómicos (síndrome de Down), para un total de 72 ratones. En los experimentos, se registraron 15 mediciones de cada proteína por muestra / ratón. Por lo tanto, para los ratones de control, hay 38x15, o 570 mediciones, y para los ratones trisómicos, hay 34x15, o 510 mediciones. El conjunto de datos contiene un total de 1080 mediciones por proteína. Cada medida puede considerarse como una muestra / ratón independiente.\n",
    "\n",
    "Las ocho clases de ratones se describen en función de características como el genotipo, el comportamiento y el tratamiento. Según el genotipo, los ratones pueden ser de control o trisómicos. Según el comportamiento, algunos ratones han sido estimulados para aprender (shock de contexto) y otros no (contexto de shock) y para evaluar el efecto del medicamento memantina en la recuperación de la capacidad de aprender en ratones trisómicos, algunos ratones han sido inyectado con la droga y otros no.\n",
    "\n",
    "Clases\n",
    "* c-CS-s: ratones de control, estimulados para aprender, inyectados con solución salina (9 ratones)\n",
    "* c-CS-m: ratones de control, estimulados para aprender, inyectados con memantina (10 ratones)\n",
    "* c-SC-s: ratones de control, no estimulados para aprender, inyectados con solución salina (9 ratones)\n",
    "* c-SC-m: ratones de control, no estimulados para aprender, inyectados con memantina (10 ratones)\n",
    "\n",
    "* t-CS-s: ratones con trisomía, estimulados para aprender, inyectados con solución salina (7 ratones)\n",
    "* t-CS-m: ratones con trisomía, estimulados para aprender, inyectados con memantina (9 ratones)\n",
    "* t-SC-s: ratones con trisomía, no estimulados para aprender, inyectados con solución salina (9 ratones)\n",
    "* t-SC-m: ratones con trisomía, no estimulados para aprender, inyectados con memantina (9 ratones)\n",
    "\n"
   ]
  },
  {
   "cell_type": "code",
   "execution_count": null,
   "metadata": {},
   "outputs": [],
   "source": [
    "mouse<-read.csv(\"data/Data_Cortex_Nuclear.csv\")\n",
    "mouse_data<-mouse[,2:78]"
   ]
  },
  {
   "cell_type": "code",
   "execution_count": null,
   "metadata": {},
   "outputs": [],
   "source": [
    "boxplot(mouse_data)"
   ]
  },
  {
   "cell_type": "code",
   "execution_count": null,
   "metadata": {},
   "outputs": [],
   "source": [
    "for (i in 1:ncol(mouse_data)){        \n",
    "    mn<-mean(mouse_data[,i],na.rm = T)    \n",
    "    mouse_data[is.na(mouse_data[,i]),i]<-mn        \n",
    "}"
   ]
  },
  {
   "cell_type": "code",
   "execution_count": null,
   "metadata": {},
   "outputs": [],
   "source": [
    "library(caret)"
   ]
  },
  {
   "cell_type": "code",
   "execution_count": null,
   "metadata": {},
   "outputs": [],
   "source": [
    "preProcValues <- preProcess(mouse_data, method = c(\"center\", \"scale\"))\n",
    "preProcValues"
   ]
  },
  {
   "cell_type": "code",
   "execution_count": null,
   "metadata": {},
   "outputs": [],
   "source": [
    "mouse_data_transformed <- predict(preProcValues, mouse_data)\n",
    "boxplot(mouse_data_transformed[,1:10])"
   ]
  },
  {
   "cell_type": "code",
   "execution_count": null,
   "metadata": {},
   "outputs": [],
   "source": [
    "q<-c()\n",
    "for (k in 1:20){\n",
    "    myclust<-kmeans(mouse_data_transformed,k)\n",
    "    q[k]<-myclust$betweenss/myclust$totss\n",
    "}\n",
    "plot(q)"
   ]
  },
  {
   "cell_type": "code",
   "execution_count": null,
   "metadata": {},
   "outputs": [],
   "source": [
    "myclust<-kmeans(mouse_data_transformed,8)\n",
    "table(mouse$class,myclust$cluster)"
   ]
  },
  {
   "cell_type": "code",
   "execution_count": null,
   "metadata": {},
   "outputs": [],
   "source": [
    "myclust<-kmeans(mouse_data_transformed,9)\n",
    "table(mouse$class,myclust$cluster)\n",
    "table(mouse$Genotype,myclust$cluster)\n",
    "table(mouse$Treatment,myclust$cluster)\n",
    "table(mouse$Behavior,myclust$cluster)"
   ]
  },
  {
   "cell_type": "markdown",
   "metadata": {},
   "source": [
    "### Más medidas de calidad de un cluster (ASW)\n",
    "\n",
    "Average silhouette width (ASW)\n",
    "\n",
    "La medida de *silhouette* nos dice como de similar es un objeto a su propio cluster (cohesión) comparado con otros clusters (separación).\n",
    "\n",
    "Su valor va entre:\n",
    "* -1 : La muestra no se parece demasiado a sus vecinos y se diferencia poco de las de otro cluster\n",
    "* 1  : La muestra se parece mucho a sus vecinos y muy poco a las de otro cluster\n",
    "\n",
    "Se da un valor por muestra, si la mayor parte de las muestras tienen un valor alto entonces la configuración del cluster es buena.\n",
    "\n",
    "Su valor s(i) se calcula como:\n",
    "\n",
    "\n",
    "\\\\[\n",
    "s(i)=\\frac{b(i)-a(i)}{max \\left ( a(i), b(i) \\right )}\n",
    "\\\\]\n",
    "\n",
    "donde a(i) es la media de la distancia entre i y todos los puntos de su mismo cluster: \n",
    "\n",
    "\\\\[\n",
    "a(i)=\\frac{1}{\\mid C(i) \\mid -1 } \\sum_{x \\in C(i)} d(x_i,x)\n",
    "\\\\]\n",
    "\n",
    "\n",
    "y b(i) es la distancia media de *i* al cluster más parecido (el que tiene una menor distancia media):\n",
    "\n",
    "\\\\[\n",
    "b(i)=min_{j \\notin C(i)} \\frac{1}{\\mid C(j) \\mid } \\sum_{x \\in C(j)} d(x_i,x)\n",
    "\\\\]\n",
    "\n",
    "$C(i)$ es el cluster al cual *i* pertenece y $\\mid C(i) \\mid$ es el número de elementos en ese cluster.\n",
    "\n"
   ]
  },
  {
   "cell_type": "code",
   "execution_count": null,
   "metadata": {},
   "outputs": [],
   "source": [
    "options(repr.plot.height=4,repr.plot.width=6,repr.plot.res = 300)\n",
    "\n",
    "\n",
    "N<-300\n",
    "x1<-c(rnorm(N,mean=2,sd=2),rnorm(N,mean=-2,sd=2),rnorm(N,mean=-5,sd=1))\n",
    "x2<-c(0.4*x1+c(rnorm(N,mean=3,sd=2),rnorm(N,mean=-3,sd=1),rnorm(N,mean=7,sd=1)))\n",
    "df<-data.frame(x1,x2)\n",
    "\n",
    "library(ggplot2)\n",
    "ggplot(data=df, aes(x=x1,y=x2))+geom_point(alpha=0.7)"
   ]
  },
  {
   "cell_type": "code",
   "execution_count": null,
   "metadata": {},
   "outputs": [],
   "source": [
    "library(cluster)\n",
    "\n",
    "q<-c()\n",
    "for (k in 2:8){\n",
    "    myclust<-kmeans(df,k)\n",
    "    ss<-silhouette(myclust$cluster, dist(df))    \n",
    "    q[k]<-mean(ss[, \"sil_width\"])\n",
    "}\n",
    "plot(q)"
   ]
  },
  {
   "cell_type": "code",
   "execution_count": null,
   "metadata": {},
   "outputs": [],
   "source": [
    "k<-3\n",
    "myclust<-kmeans(df,k)\n",
    "ss<-silhouette(myclust$cluster, dist(df))  \n",
    "summary(ss)\n",
    "plot(ss,col=1:k,border=NA)"
   ]
  },
  {
   "cell_type": "code",
   "execution_count": null,
   "metadata": {},
   "outputs": [],
   "source": [
    "str(dist(iris_data))"
   ]
  },
  {
   "cell_type": "code",
   "execution_count": null,
   "metadata": {},
   "outputs": [],
   "source": [
    "q<-c()\n",
    "for (k in 2:20){\n",
    "    myclust<-kmeans(iris_data,k)\n",
    "    ss<-silhouette(myclust$cluster, dist(iris_data))    \n",
    "    q[k]<-mean(ss[, \"sil_width\"])\n",
    "}\n",
    "plot(q)"
   ]
  },
  {
   "cell_type": "code",
   "execution_count": null,
   "metadata": {},
   "outputs": [],
   "source": [
    "k<-2\n",
    "myclust<-kmeans(iris_data,k)\n",
    "ss<-silhouette(myclust$cluster, dist(iris_data))  \n",
    "summary(ss)\n",
    "plot(ss,col=1:k,border=NA)\n",
    "\n",
    "table(iris$Species,myclust$cluster)"
   ]
  },
  {
   "cell_type": "markdown",
   "metadata": {},
   "source": [
    "####  Ejemplo aceite de oliva\n",
    "\n",
    "\n",
    "Composición en porcentaje de ocho ácidos grasos encontrados en 572 aceites de oliva italianos:\n",
    "\n",
    "* region. Región de Italia.\n",
    "* area. Área de Italy.\n",
    "* palmitic. % de ácido palmítico en la muestra.\n",
    "* palmitoleic. % de ácido palmitoleico en la muestra.\n",
    "* stearic. % de ácido esteárico en la muestra.\n",
    "* oleic. % de ácido oleico en la muestra.\n",
    "* linoleic. % de ácido linoleico en la muestra.\n",
    "* linolenic. % de ácido linolénico en la muestra.\n",
    "* arachidic. % de ácido araquidónico en la muestra.\n",
    "* eicosenoic. % de ácido eicosenoico en la muestra."
   ]
  },
  {
   "cell_type": "code",
   "execution_count": null,
   "metadata": {},
   "outputs": [],
   "source": [
    "library(dslabs)"
   ]
  },
  {
   "cell_type": "code",
   "execution_count": null,
   "metadata": {},
   "outputs": [],
   "source": [
    "head(olive)"
   ]
  },
  {
   "cell_type": "code",
   "execution_count": null,
   "metadata": {},
   "outputs": [],
   "source": [
    "library(GGally)\n",
    "options(repr.plot.height=4,repr.plot.width=8,repr.plot.res = 300)\n",
    "ggpairs(olive[,c(\"palmitic\",\"palmitoleic\",\"stearic\",\"oleic\",\"linoleic\",\"linolenic\",\"arachidic\",\"eicosenoic\")],\n",
    "       lower = list(continuous = wrap(\"points\", alpha = 0.3,size=0.1,color='blue'))\n",
    "       )"
   ]
  },
  {
   "cell_type": "code",
   "execution_count": null,
   "metadata": {},
   "outputs": [],
   "source": [
    "standarized_model <- caret::preProcess(olive, method = c(\"center\", \"scale\"))\n",
    "standarized_model"
   ]
  },
  {
   "cell_type": "code",
   "execution_count": null,
   "metadata": {},
   "outputs": [],
   "source": [
    "olive_standarized = predict(standarized_model,olive)"
   ]
  },
  {
   "cell_type": "code",
   "execution_count": null,
   "metadata": {},
   "outputs": [],
   "source": [
    "summary(olive_standarized)"
   ]
  },
  {
   "cell_type": "code",
   "execution_count": null,
   "metadata": {},
   "outputs": [],
   "source": [
    "colMeans(olive_standarized[,3:10])"
   ]
  },
  {
   "cell_type": "code",
   "execution_count": null,
   "metadata": {},
   "outputs": [],
   "source": [
    "sapply(olive_standarized[,3:10],sd)"
   ]
  },
  {
   "cell_type": "code",
   "execution_count": null,
   "metadata": {},
   "outputs": [],
   "source": [
    "library(cluster)\n",
    "\n",
    "q<-c()\n",
    "qsil<-c()\n",
    "data_olive<-olive_standarized[,3:10]\n",
    "for (k in 2:20){\n",
    "    myclust<-kmeans(data_olive,centers=k,nstart=30)\n",
    "    q[k]<-myclust$betweenss/myclust$totss\n",
    "    \n",
    "    ss<-silhouette(myclust$cluster, dist(data_olive))    \n",
    "    qsil[k]<-mean(ss[, \"sil_width\"])\n",
    "}\n",
    "plot(q)\n",
    "plot(qsil)"
   ]
  },
  {
   "cell_type": "code",
   "execution_count": null,
   "metadata": {},
   "outputs": [],
   "source": [
    "k<-5\n",
    "myclust<-kmeans(olive_standarized[,3:10],centers=k,nstart=30)"
   ]
  },
  {
   "cell_type": "code",
   "execution_count": null,
   "metadata": {},
   "outputs": [],
   "source": [
    "olive$cluster=factor(myclust$cluster)\n",
    "summary(olive)"
   ]
  },
  {
   "cell_type": "code",
   "execution_count": null,
   "metadata": {},
   "outputs": [],
   "source": [
    "ss<-silhouette(myclust$cluster, dist(olive_standarized[,3:10]))\n",
    "plot(ss,col=1:k,border=NA)"
   ]
  },
  {
   "cell_type": "code",
   "execution_count": null,
   "metadata": {},
   "outputs": [],
   "source": [
    "suppressMessages(library(dplyr))\n",
    "olive %>% filter(cluster==1) %>% summary()"
   ]
  },
  {
   "cell_type": "code",
   "execution_count": null,
   "metadata": {},
   "outputs": [],
   "source": [
    "olive %>% filter(cluster==2) %>% summary()"
   ]
  },
  {
   "cell_type": "code",
   "execution_count": null,
   "metadata": {},
   "outputs": [],
   "source": [
    "olive %>% filter(cluster==3) %>% summary()"
   ]
  },
  {
   "cell_type": "code",
   "execution_count": null,
   "metadata": {},
   "outputs": [],
   "source": [
    "olive %>% filter(cluster==4) %>% summary()"
   ]
  },
  {
   "cell_type": "code",
   "execution_count": null,
   "metadata": {},
   "outputs": [],
   "source": [
    "olive %>% filter(cluster==5) %>% summary()"
   ]
  },
  {
   "cell_type": "markdown",
   "metadata": {},
   "source": [
    "#### PAM (Partitioning Around Medoids) - k-medoids\n",
    "\n",
    "Se basa en medoides. Es similar al kmeans pero en lugar de usar centroides se basa en medoides El centroide o centro geométrico es el punto resultante de la media aritmética de la posición de todos los puntos.\n",
    "\n",
    "\n",
    "```\n",
    "1 - elige k muestras al azar entre todas las muestras\n",
    "2 - asigna el elemento al medoide más cercano\n",
    "3 - recalcular medoides:\n",
    "3.1 - Calcula la suma de la distancia de cada candidato a medoide con el resto de los puntos.\n",
    "3.2 - Elije como medoide el punto cuya suma de las distancias sea menor.\n",
    "4 - Repetir desde 2 mientras los medoides se sigan actualizando y el error siga disminuyendo.\n",
    "```\n",
    "\n",
    "El ligeramente más robusto que el kmeans porque este depende de la suma de elementos, no de la suma al cuadrado.\n",
    "\n",
    "Funciona con definiciones de medidas arbitrarias."
   ]
  },
  {
   "cell_type": "markdown",
   "metadata": {},
   "source": [
    "https://www.rdocumentation.org/packages/cluster/versions/2.1.0/topics/pam"
   ]
  },
  {
   "cell_type": "code",
   "execution_count": null,
   "metadata": {},
   "outputs": [],
   "source": [
    "options(repr.plot.height=4,repr.plot.width=6,repr.plot.res = 300)\n",
    "\n",
    "\n",
    "N<-300\n",
    "x1<-c(rnorm(N,mean=2,sd=2),rnorm(N,mean=-2,sd=2),rnorm(N,mean=-5,sd=1))\n",
    "x2<-c(0.4*x1+c(rnorm(N,mean=3,sd=2),rnorm(N,mean=-3,sd=1),rnorm(N,mean=7,sd=1)))\n",
    "df<-data.frame(x1,x2)\n",
    "\n",
    "library(ggplot2)\n",
    "ggplot(data=df, aes(x=x1,y=x2))+geom_point(alpha=0.7)"
   ]
  },
  {
   "cell_type": "code",
   "execution_count": null,
   "metadata": {},
   "outputs": [],
   "source": [
    "cl <- factor(pam(df,k=3, cluster.only=TRUE))\n",
    "\n",
    "clustered<-cbind(df,group=cl)\n",
    "summary(clustered)\n",
    "ggplot(data=clustered,aes(x=x1,y=x2,color=group))+geom_point(size=0.5)"
   ]
  },
  {
   "cell_type": "code",
   "execution_count": null,
   "metadata": {},
   "outputs": [],
   "source": [
    "pam_cl<-pam(df,k=3, metric=\"manhattan\")\n",
    "pam_cl$medoids"
   ]
  },
  {
   "cell_type": "code",
   "execution_count": null,
   "metadata": {},
   "outputs": [],
   "source": [
    "\n",
    "cl<-factor(pam_cl$clustering)\n",
    "\n",
    "clustered<-cbind(df,group=cl)\n",
    "summary(clustered)\n",
    "ggplot(data=clustered,aes(x=x1,y=x2,color=group))+geom_point(size=0.5)+\n",
    " geom_point(x=pam_cl$medoids[1,1],y=pam_cl$medoids[1,2],color=\"black\",shape='O',size=3)+\n",
    " geom_point(x=pam_cl$medoids[2,1],y=pam_cl$medoids[2,2],color=\"black\",shape='O',size=3)+\n",
    " geom_point(x=pam_cl$medoids[3,1],y=pam_cl$medoids[3,2],color=\"black\",shape='O',size=3)"
   ]
  },
  {
   "cell_type": "code",
   "execution_count": null,
   "metadata": {},
   "outputs": [],
   "source": [
    "pr<-pam(df,k=3, metric=\"manhattan\")\n",
    "str(pr)"
   ]
  },
  {
   "cell_type": "code",
   "execution_count": null,
   "metadata": {},
   "outputs": [],
   "source": [
    "silhouette(pr)"
   ]
  },
  {
   "cell_type": "code",
   "execution_count": null,
   "metadata": {},
   "outputs": [],
   "source": []
  },
  {
   "cell_type": "markdown",
   "metadata": {},
   "source": [
    "#### Ejemplo con mouse_data"
   ]
  },
  {
   "cell_type": "code",
   "execution_count": null,
   "metadata": {},
   "outputs": [],
   "source": [
    "mouse<-read.csv(\"data/Data_Cortex_Nuclear.csv\")\n",
    "mouse_data<-mouse[,2:78]\n",
    "\n",
    "preProcValues <- caret::preProcess(mouse_data, method = c(\"center\", \"scale\"))\n",
    "mouse_data_transformed <- predict(preProcValues, mouse_data)\n",
    "\n",
    "qsil<-c()\n",
    "for (k in 2:20){\n",
    "    pr<-pam(mouse_data_transformed,k=k, metric=\"manhattan\")\n",
    "    ss<-silhouette(pr)\n",
    "    qsil[k]<-mean(ss[, \"sil_width\"])\n",
    "}\n",
    "plot(qsil)"
   ]
  },
  {
   "cell_type": "code",
   "execution_count": null,
   "metadata": {},
   "outputs": [],
   "source": [
    "k<-4\n",
    "pr<-pam(mouse_data_transformed,k=k, metric=\"manhattan\")\n",
    "ss<-silhouette(pr)\n",
    "plot(ss,col=1:k,border=NA)"
   ]
  },
  {
   "cell_type": "code",
   "execution_count": null,
   "metadata": {},
   "outputs": [],
   "source": [
    "table(mouse$class,pr$cluster)\n",
    "table(mouse$Genotype,pr$cluster)\n",
    "table(mouse$Treatment,pr$cluster)\n",
    "table(mouse$Behavior,pr$cluster)"
   ]
  },
  {
   "cell_type": "markdown",
   "metadata": {},
   "source": [
    "## Algoritmos jerárquicos"
   ]
  },
  {
   "cell_type": "markdown",
   "metadata": {},
   "source": [
    "Se basa en la idea central de que los objetos están más relacionados con objetos cercanos que con objetos más alejados. Estos algoritmos conectan \"objetos\" para formar \"clusters\" en función de su distancia. Hay dos enfoques para abordar este problema de agrupamiento:\n",
    "\n",
    "* Aglomerativo (de abajo arriba): cada elemento comienza en su propio clúster. Iterativamente, los clústeres más similares se fusionan para finalizar con un gran clúster que contiene todos los elementos.\n",
    "* Divisivo (de arriba hacia abajo): todos los elementos pertenecen al mismo grupo. Este clúster se divide iterativamente hasta que todos los clusters tengan solo un elemento."
   ]
  },
  {
   "cell_type": "markdown",
   "metadata": {},
   "source": [
    "La fusión o división de clusters se realiza en base a diferentes métodos para medir estas similitudes de clusters:\n",
    "\n",
    "* single-linkage (SLCA): la distancia entre dos clusters es la distancia mínima que existe entre dos elementos que pertenecen a diferentes clusters.\n",
    "![](img/cluster_single.png)\n",
    "* complete-linkage (CLCA): la distancia entre dos clústeres es la distancia máxima que existe entre dos elementos que pertenecen a diferentes clústeres.\n",
    "![](img/cluster_complete.png)\n",
    "* average-linkage (unweighted pair group method with arithmetic mean, UPGMA): la distancia entre dos clusters es la distancia promedio que existe desde cualquier elemento en el primer clúster a cualquier elemento en el otro clúster.\n",
    "![](img/cluster_average.png)\n",
    "* cendroid-linkage (Unweighted pair group method with centroid, UPGMC): la distancia entre dos clusters es la distancia que existe entre los centroinds de cada cluster.\n",
    "![](img/cluster_centroid.png)"
   ]
  },
  {
   "cell_type": "markdown",
   "metadata": {},
   "source": [
    "### Ejemplo Iris"
   ]
  },
  {
   "cell_type": "code",
   "execution_count": null,
   "metadata": {},
   "outputs": [],
   "source": [
    "iris_data<-iris[,1:4]\n",
    "\n",
    "for (i in 1:ncol(iris_data)){     \n",
    "    mn<-mean(iris_data[,i],na.rm = T)\n",
    "    sd<-sd(iris_data[,i],na.rm = T)\n",
    "    \n",
    "    iris_data[,i]<-(iris_data[,i]-mn)/sd    \n",
    "}"
   ]
  },
  {
   "cell_type": "code",
   "execution_count": null,
   "metadata": {},
   "outputs": [],
   "source": [
    "d <- dist(as.matrix(iris_data),method = \"euclidean\")\n",
    "hc <- hclust(d,method=\"complete\")\n",
    "hcd <- as.dendrogram(hc)\n",
    "par(cex=0.3)\n",
    "plot(hcd)"
   ]
  },
  {
   "cell_type": "code",
   "execution_count": null,
   "metadata": {},
   "outputs": [],
   "source": [
    "iris$Species[labels(hcd)]"
   ]
  },
  {
   "cell_type": "code",
   "execution_count": null,
   "metadata": {
    "scrolled": false
   },
   "outputs": [],
   "source": [
    "library(dendextend)\n",
    "options(repr.plot.height=8,repr.plot.width=6,repr.plot.res = 300)\n",
    "labels(hcd)<-iris$Species[labels(hcd)]\n",
    "hcd<-set(hcd,\"labels_cex\", 0.45) \n",
    "plot(color_branches(hcd,h=2),horiz=TRUE,cex=0)\n",
    "abline(v=2,col=\"red\")\n",
    "options(repr.plot.height=4,repr.plot.width=6,repr.plot.res = 300)"
   ]
  },
  {
   "cell_type": "code",
   "execution_count": null,
   "metadata": {
    "scrolled": false
   },
   "outputs": [],
   "source": [
    "plot(cut(hcd, h = 2)$upper, main = \"Corte\", cex=1)"
   ]
  },
  {
   "cell_type": "code",
   "execution_count": null,
   "metadata": {},
   "outputs": [],
   "source": [
    "cut(hcd, h = 2)$lower"
   ]
  },
  {
   "cell_type": "code",
   "execution_count": null,
   "metadata": {},
   "outputs": [],
   "source": [
    "cutree(hc,h=2)"
   ]
  },
  {
   "cell_type": "markdown",
   "metadata": {},
   "source": [
    "Podemos cortar el arbol a una altura dada y con cuales de las especies se correspondería:"
   ]
  },
  {
   "cell_type": "code",
   "execution_count": null,
   "metadata": {},
   "outputs": [],
   "source": [
    "#d <- dist(as.matrix(iris_data),method = \"euclidean\")\n",
    "#hc <- hclust(d,method=\"complete\")\n",
    "#hcd <- as.dendrogram(hc)\n",
    "\n",
    "table(iris$Species,\n",
    "      cutree(hc,h=2))"
   ]
  },
  {
   "cell_type": "markdown",
   "metadata": {},
   "source": [
    "La función cutree_1h conserva el orden del dendrograma que hemos dibujado antes:"
   ]
  },
  {
   "cell_type": "code",
   "execution_count": null,
   "metadata": {},
   "outputs": [],
   "source": [
    "table(iris$Species,\n",
    "      cutree_1h.dendrogram(hcd,h=2))"
   ]
  },
  {
   "cell_type": "code",
   "execution_count": null,
   "metadata": {},
   "outputs": [],
   "source": [
    "table(iris$Species,\n",
    "      cutree_1h.dendrogram(hcd,h=5))"
   ]
  },
  {
   "cell_type": "code",
   "execution_count": null,
   "metadata": {},
   "outputs": [],
   "source": [
    "table(iris$Species,\n",
    "      cutree_1h.dendrogram(hcd,h=4.5))"
   ]
  },
  {
   "cell_type": "markdown",
   "metadata": {},
   "source": [
    "#### Ejemplo proteinas del ratón"
   ]
  },
  {
   "cell_type": "code",
   "execution_count": null,
   "metadata": {},
   "outputs": [],
   "source": [
    "d <- dist(as.matrix(mouse_data_transformed),method = \"euclidean\")\n",
    "\n",
    "hc <- hclust(d,method=\"average\")\n",
    "hcd <- as.dendrogram(hc)\n",
    "plot(hcd)"
   ]
  },
  {
   "cell_type": "code",
   "execution_count": null,
   "metadata": {},
   "outputs": [],
   "source": [
    "plot(color_branches(hcd, k=8),leaflab=\"none\")"
   ]
  },
  {
   "cell_type": "code",
   "execution_count": null,
   "metadata": {},
   "outputs": [],
   "source": [
    "plot(cut(hcd, h = 15)$lower[[2]], main = \"Segunda rama del arbol con corte h=15\")"
   ]
  },
  {
   "cell_type": "code",
   "execution_count": null,
   "metadata": {},
   "outputs": [],
   "source": [
    "table(mouse$class,cutree(hc,k=3))"
   ]
  },
  {
   "cell_type": "code",
   "execution_count": null,
   "metadata": {},
   "outputs": [],
   "source": [
    "table(mouse$class,cutree(hc,h=10))\n",
    "table(mouse$Genotype,cutree(hc,22))\n",
    "table(mouse$Treatment,cutree(hc,4))\n",
    "table(mouse$Behavior,cutree(hc,4))"
   ]
  },
  {
   "cell_type": "markdown",
   "metadata": {},
   "source": [
    "#### Ejemplo tipos de aceite"
   ]
  },
  {
   "cell_type": "code",
   "execution_count": null,
   "metadata": {},
   "outputs": [],
   "source": [
    "standarized_model <- caret::preProcess(olive, method = c(\"center\", \"scale\"))\n",
    "olive_standarized = predict(standarized_model,olive)"
   ]
  },
  {
   "cell_type": "code",
   "execution_count": null,
   "metadata": {},
   "outputs": [],
   "source": [
    "d <- dist(as.matrix(olive_standarized),method = \"euclidean\")\n",
    "\n",
    "hc <- hclust(d,method=\"average\")\n",
    "hcd <- as.dendrogram(hc)\n",
    "plot(color_branches(hcd, k=5),leaflab=\"none\")\n",
    "abline(h=4.42,col=\"red\")"
   ]
  },
  {
   "cell_type": "code",
   "execution_count": null,
   "metadata": {},
   "outputs": [],
   "source": [
    "hc$height[hc$height>=4.3]"
   ]
  },
  {
   "cell_type": "code",
   "execution_count": null,
   "metadata": {},
   "outputs": [],
   "source": [
    "#cl<-cutree(hc,k=5)\n",
    "cl<-cutree_1h.dendrogram(hcd,h=4.3)\n",
    "olive$cluster = factor(cl)\n",
    "summary(olive)"
   ]
  },
  {
   "cell_type": "code",
   "execution_count": null,
   "metadata": {},
   "outputs": [],
   "source": [
    "ss<-silhouette(cl, d)\n",
    "plot(ss,col=1:max(cl),border=NA)"
   ]
  },
  {
   "cell_type": "code",
   "execution_count": null,
   "metadata": {},
   "outputs": [],
   "source": [
    "olive %>% filter(cluster==1) %>% summary()"
   ]
  },
  {
   "cell_type": "code",
   "execution_count": null,
   "metadata": {},
   "outputs": [],
   "source": [
    "olive %>% filter(cluster==2) %>% summary()"
   ]
  },
  {
   "cell_type": "code",
   "execution_count": null,
   "metadata": {},
   "outputs": [],
   "source": [
    "olive %>% filter(cluster==3) %>% summary()"
   ]
  },
  {
   "cell_type": "code",
   "execution_count": null,
   "metadata": {},
   "outputs": [],
   "source": [
    "olive %>% filter(cluster==4) %>% summary()"
   ]
  },
  {
   "cell_type": "code",
   "execution_count": null,
   "metadata": {},
   "outputs": [],
   "source": [
    "olive %>% filter(cluster==5) %>% summary()"
   ]
  },
  {
   "cell_type": "markdown",
   "metadata": {},
   "source": [
    "#### Ejemplo expresión genética levadura\n",
    "\n",
    "Ejemplo sacado de:\n",
    "https://bio723-class.github.io/Bio723-book/clustering-in-r.html\n",
    "\n",
    "Utilizando el dataset del artículo:\n",
    "    Spellman PT, et al. 1998. Comprehensive identification of cell cycle-regulated genes of the yeast Saccharomyces cerevisiae by microarray hybridization. Mol Biol Cell 9(12): 3273-97.\n",
    "\n",
    "Nos vamos a descargar la matriz de expresión de 724 genes en diferentes condiciones. Vamos a gruparlos por su similaridad"
   ]
  },
  {
   "cell_type": "code",
   "execution_count": null,
   "metadata": {},
   "outputs": [],
   "source": [
    "#library(tidyverse)\n",
    "spellman <- read.csv(\"https://github.com/Bio723-class/example-datasets/raw/master/spellman-wide.csv\", stringsAsFactors = T)\n",
    "head(spellman)"
   ]
  },
  {
   "cell_type": "code",
   "execution_count": null,
   "metadata": {},
   "outputs": [],
   "source": [
    "summary(spellman)"
   ]
  },
  {
   "cell_type": "code",
   "execution_count": null,
   "metadata": {},
   "outputs": [],
   "source": [
    "1-abs(cor(spellman[,c(-1,-2)],use=\"pairwise.complete.obs\"))"
   ]
  },
  {
   "cell_type": "markdown",
   "metadata": {},
   "source": [
    "Las dos primeras columnas indican el tipo de experimento que se ha realizado. Las siguientes columnas indican el nivel de expresión genética del gen en cuestión, indicado por la columna.\n",
    "Por tanto cada columna, a partir de la tercera nos da los niveles de expresión de un gen en diferentes condiciones. Queremos encontrar los genes que muestran un comportamiento similar.\n",
    "\n",
    "Como distancia ahora vamos a utilizar la correlación. Más concretamente: 1-cor\n",
    "De esta forma si dos genes tienen correlación muy cercana a 1 tendrán una distancia muy cercana a 0. A menor correlación, mayor distancia."
   ]
  },
  {
   "cell_type": "code",
   "execution_count": null,
   "metadata": {},
   "outputs": [],
   "source": [
    "spellman.cor<-cor(spellman[,c(-1,-2)],use=\"pairwise.complete.obs\")\n",
    "dim(spellman.cor)"
   ]
  },
  {
   "cell_type": "code",
   "execution_count": null,
   "metadata": {},
   "outputs": [],
   "source": [
    "spellman.dist<- as.dist(1 - abs(spellman.cor))\n",
    "str(spellman.dist)"
   ]
  },
  {
   "cell_type": "code",
   "execution_count": null,
   "metadata": {},
   "outputs": [],
   "source": [
    "spellman.tree <- hclust(spellman.dist, method=\"complete\")\n",
    "spellman.dend <- as.dendrogram(spellman.tree) "
   ]
  },
  {
   "cell_type": "code",
   "execution_count": null,
   "metadata": {},
   "outputs": [],
   "source": [
    "library(dendextend)\n",
    "\n",
    "clusters <- cutree(spellman.dend, k=4)\n",
    "plot(color_branches(spellman.dend, k=4),leaflab=\"none\")"
   ]
  },
  {
   "cell_type": "code",
   "execution_count": null,
   "metadata": {},
   "outputs": [],
   "source": [
    "library(cluster)\n",
    "ss<-silhouette(clusters, spellman.dist)\n",
    "plot(ss,col=1:max(clusters),border=NA)"
   ]
  },
  {
   "cell_type": "code",
   "execution_count": null,
   "metadata": {},
   "outputs": [],
   "source": [
    "names(clusters[clusters==4])"
   ]
  },
  {
   "cell_type": "code",
   "execution_count": null,
   "metadata": {},
   "outputs": [],
   "source": []
  },
  {
   "cell_type": "markdown",
   "metadata": {
    "collapsed": true
   },
   "source": [
    "# Cluster por densidad\n",
    "\n"
   ]
  },
  {
   "cell_type": "markdown",
   "metadata": {},
   "source": [
    "## Density Based Clustering of Applications with Noise (DBSCAN)\n",
    "\n",
    "DBSCAN es un algoritmo basado en la proximidad y la densidad de las observaciones para formar grupos. La agrupación DBSCAN puede identificar valores atípicos, observaciones que no pertenecerán a ningún grupo.\n",
    "\n",
    "En DBSCAN hay 3 tipos de puntos:\n",
    " * núcleo: punto que tiene al menos *minPts* puntos a una distancia $\\varepsilon$.\n",
    " * puntos (densamente-)alcanzables: punto que tiene al menos un núcleo a una distancia $\\varepsilon$.\n",
    " * ruido:  El resto de puntos\n",
    "\n",
    "Donde los parámetros $\\varepsilon$ y *minPts* son:\n",
    "  * $\\varepsilon$: distancia de corte de un punto desde (punto central, que se analiza a continuación) para que se considere parte de un grupo. Comúnmente conocido como epsilon (abreviado como eps).\n",
    "  *  *minPts* : número mínimo de puntos necesarios para formar un clúster.\n",
    "\n",
    "La agrupación DBSCAN se puede resumir en los siguientes pasos:\n",
    "  * Para cada punto P identifica los N puntos dentro de distancia $\\varepsilon$ \n",
    "     * si N >= minPts : Etiqueta P como punto de tipo *núcleo*\n",
    "     * si N < minPts : \n",
    "         * Si hay un punto de *núcleo* a una distancia $\\varepsilon$, se etiqueta como *punto densamente alcanzable*\n",
    "         * Si NO hay un punto de *núcleo* a una distancia $\\varepsilon$, se etiqueta como *ruido*.\n",
    "         \n",
    "   Un cluster estaría formado por todos los puntos de *núcleo* y los puntos *densamente alcanzables* que están densamente conectados por la distancia  $\\varepsilon$. \n",
    "   Existe una variante DBSCAN* la cual solo considera los puntos de cluster como puntos de *núcleo* el resto son ruido.\n",
    "\n",
    "![](img/dbscan_1.png)\n",
    "![](img/dbscan_2.png)"
   ]
  },
  {
   "cell_type": "markdown",
   "metadata": {},
   "source": [
    "Ejemplo de clasificación de estrellas sacadas de:\n",
    "http://burro.astr.cwru.edu/Academics/Astr221/HW/HW5/HW5.html\n",
    "\n",
    "El dataset contiene 6219 estrellas que muestran la magnitud aparente en el rango visible. El dataset contiene 5 columnas:\n",
    "* id de la estrella\n",
    "* Magnitud aparente en el espectro visible\n",
    "* Color observado en el rango B-V (Blue-Visible)\n",
    "* Paralaje de la estrella observada (en segundo de arco)\n",
    "* Incertidumbre del paralaje (en miliarcsec)\n",
    "\n",
    "![](https://upload.wikimedia.org/wikipedia/commons/thumb/0/04/ParsecDef.svg/240px-ParsecDef.svg.png)\n",
    "\n",
    "Podemos calcular la distancia a la estrella en Parsecs en función de los segundos de arco:\n",
    "\\\\[\n",
    "\\Delta=\\frac{1}{\\pi}\n",
    "\\\\]\n",
    "1 pársec = 206265 ua = 3,2616 años luz \n",
    "\n",
    "La magnitud absoluta de una estrella está relacionada con la magnitud aparente por:\n",
    "\\\\[\n",
    "Mv = mv– 5·log_{10} \\Delta +5\n",
    "\\\\]\n",
    "\n",
    "Si pintamos la magnitud absoluta de una estrella en función de su temperatura (color) obtenemos lo que se llama un diagrama Hertzsprung–Russell, a veces abreviado como diagrama H-R.\n",
    "\n",
    "![](https://upload.wikimedia.org/wikipedia/commons/thumb/6/6b/HRDiagram.png/421px-HRDiagram.png)"
   ]
  },
  {
   "cell_type": "code",
   "execution_count": null,
   "metadata": {},
   "outputs": [],
   "source": [
    "hr=read.csv(\"data/yaletrigplx.dat\",col.names = c(\"id\",\"mv\",\"BV\",\"parallax\",\"error\"),sep=\"\" )\n",
    "head(hr)"
   ]
  },
  {
   "cell_type": "code",
   "execution_count": null,
   "metadata": {},
   "outputs": [],
   "source": [
    "hr$parsec=1/hr$parallax\n",
    "hr$Mv<-hr$mv-5*log10(hr$parsec)+5"
   ]
  },
  {
   "cell_type": "code",
   "execution_count": null,
   "metadata": {},
   "outputs": [],
   "source": [
    "library(ggplot2)\n",
    "options(repr.plot.height=4,repr.plot.width=6)\n",
    "\n",
    "ggplot(hr,aes(y=Mv,x=BV))+geom_point(size=0.1)+scale_y_reverse()"
   ]
  },
  {
   "cell_type": "code",
   "execution_count": null,
   "metadata": {},
   "outputs": [],
   "source": [
    "library(dbscan)\n",
    "library(tidyverse)"
   ]
  },
  {
   "cell_type": "code",
   "execution_count": null,
   "metadata": {},
   "outputs": [],
   "source": [
    "hr$norm_Mv=(hr$Mv-mean(hr$Mv))/sd(hr$Mv)\n",
    "hr$norm_BV=(hr$BV-mean(hr$BV))/sd(hr$BV)"
   ]
  },
  {
   "cell_type": "code",
   "execution_count": null,
   "metadata": {},
   "outputs": [],
   "source": [
    "summary(hr)"
   ]
  },
  {
   "cell_type": "code",
   "execution_count": null,
   "metadata": {},
   "outputs": [],
   "source": [
    "hr_cl<-dbscan(hr[,c(\"norm_Mv\",\"norm_BV\")], minPts = 18,eps=0.09, borderPoints=TRUE)\n",
    "hr_cl\n",
    "hr$cluster<-as.factor(hr_cl$cluster)\n",
    "ggplot(hr,aes(y=norm_Mv,x=norm_BV,color=cluster))+geom_point(size=0.01)+scale_y_reverse()"
   ]
  },
  {
   "cell_type": "code",
   "execution_count": null,
   "metadata": {},
   "outputs": [],
   "source": [
    "hullplot(hr[,c(\"norm_Mv\",\"norm_BV\")],hr_cl)"
   ]
  },
  {
   "cell_type": "markdown",
   "metadata": {},
   "source": [
    "kNNdist devuelve un vector con la distancia a los k elementos más cercanos de cada punto:"
   ]
  },
  {
   "cell_type": "code",
   "execution_count": null,
   "metadata": {},
   "outputs": [],
   "source": [
    "k30_dist <- hr %>% select(norm_Mv,norm_BV) %>% kNNdist(k=30) \n",
    "head(cbind(hr,k30_dist))"
   ]
  },
  {
   "cell_type": "markdown",
   "metadata": {},
   "source": [
    "El codo en la curva de lo valores de kNNdist nos puede dar una zona en la que el valor de eps de mejores resultados:"
   ]
  },
  {
   "cell_type": "code",
   "execution_count": null,
   "metadata": {},
   "outputs": [],
   "source": [
    "plot(sort(kNNdist(hr[,c(\"norm_Mv\",\"norm_BV\")], k=30)),t='l')\n",
    "grid()"
   ]
  },
  {
   "cell_type": "code",
   "execution_count": null,
   "metadata": {},
   "outputs": [],
   "source": [
    "hr_cl<-dbscan(hr[,c(\"norm_Mv\",\"norm_BV\")], minPts = 30,eps=0.3, borderPoints=TRUE)\n",
    "hr_cl\n",
    "hr$cluster<-as.factor(hr_cl$cluster)\n",
    "ggplot(hr,aes(y=norm_Mv,x=norm_BV,color=cluster))+geom_point(size=0.01)+scale_y_reverse()"
   ]
  },
  {
   "cell_type": "markdown",
   "metadata": {},
   "source": [
    "### Ejemplo dataset Iris"
   ]
  },
  {
   "cell_type": "code",
   "execution_count": null,
   "metadata": {},
   "outputs": [],
   "source": [
    "data(iris)\n",
    "\n",
    "preproc<-caret::preProcess(iris[,1:4], method = c(\"center\", \"scale\"))\n",
    "iris_norm<-predict(preproc,iris[,1:4])\n",
    "summary(iris_norm)"
   ]
  },
  {
   "cell_type": "markdown",
   "metadata": {},
   "source": [
    "Buscamos el valor de eps mirando la distancia de cada muestra a sus 4 vecinos más próximos: "
   ]
  },
  {
   "cell_type": "code",
   "execution_count": null,
   "metadata": {},
   "outputs": [],
   "source": [
    "kNNdistplot(iris_norm, k=4)\n",
    "grid()"
   ]
  },
  {
   "cell_type": "code",
   "execution_count": null,
   "metadata": {},
   "outputs": [],
   "source": [
    "cl <- dbscan(iris_norm, eps = 0.6, minPts = 4)\n",
    "pairs(iris_norm, col = cl$cluster+1L)"
   ]
  },
  {
   "cell_type": "code",
   "execution_count": null,
   "metadata": {},
   "outputs": [],
   "source": [
    "df=data.frame(dist=kNNdist(iris_norm,k=4),\n",
    "              cl=as.factor(cl$cluster),\n",
    "              sp=iris$Species)\n",
    "table(df$cl,df$sp)"
   ]
  },
  {
   "cell_type": "code",
   "execution_count": null,
   "metadata": {},
   "outputs": [],
   "source": [
    "head(df)"
   ]
  },
  {
   "cell_type": "code",
   "execution_count": null,
   "metadata": {},
   "outputs": [],
   "source": [
    "library(dplyr)\n",
    "df %>% group_by(cl) %>% summarize(mean(dist))"
   ]
  },
  {
   "cell_type": "code",
   "execution_count": null,
   "metadata": {},
   "outputs": [],
   "source": []
  },
  {
   "cell_type": "markdown",
   "metadata": {},
   "source": [
    "## Hiercarchical DBSCAN (HDBSCAN)\n",
    "\n",
    "HDBSCAN esencialmente calcula la jerarquía de todos los clústeres de DBSCAN* para un *minPts* dato, y luego utiliza una estabilidad basada método de extracción para encontrar cortes óptimos en la jerarquía, por lo tanto produciendo una solución plana.\n",
    "      \n",
    "Hay que tener en cuenta que *minPts* no solo actúa como un tamaño mínimo de clúster para detectar, pero también como un factor de suavizado de las estimaciones de densidad calculado implícitamente desde HDBSCAN.\n",
    "\n",
    "https://cran.r-project.org/web/packages/dbscan/vignettes/hdbscan.html"
   ]
  },
  {
   "cell_type": "code",
   "execution_count": null,
   "metadata": {},
   "outputs": [],
   "source": [
    "set.seed(123)\n",
    "N<-1000\n",
    "x<-c(rnorm(N,mean=1,sd=0.5),rnorm(N,mean=3.5,sd=0.5),rnorm(2*N,mean=8,sd=1))\n",
    "df <- data.frame(x=x,y=runif(length(x)))\n",
    "head(df)"
   ]
  },
  {
   "cell_type": "code",
   "execution_count": null,
   "metadata": {},
   "outputs": [],
   "source": [
    "library(ggplot2)\n",
    "options(repr.plot.height=2,repr.plot.width=6,repr.plot.res = 300)\n",
    "\n",
    "ggplot(df,aes(x=x,y=y))+geom_point(size=0.1)+geom_density2d(h=c(1,2))"
   ]
  },
  {
   "cell_type": "code",
   "execution_count": null,
   "metadata": {},
   "outputs": [],
   "source": [
    "ggplot(df,aes(x=x))+geom_density(bw=0.15)"
   ]
  },
  {
   "cell_type": "code",
   "execution_count": null,
   "metadata": {},
   "outputs": [],
   "source": [
    "library(dbscan)\n",
    "minPts <- 500\n",
    "\n",
    "cl <- hdbscan(df[,c(\"x\",\"y\")], minPts = minPts,gen_simplified_tree=TRUE,gen_hdbscan_tree=TRUE)"
   ]
  },
  {
   "cell_type": "markdown",
   "metadata": {},
   "source": [
    "HDBSCAN no es más que una ejecución de dbscan* para diferentes valores de epsilon.\n",
    "\n",
    "Vamos a demostrarlo a continuación:"
   ]
  },
  {
   "cell_type": "code",
   "execution_count": null,
   "metadata": {},
   "outputs": [],
   "source": [
    "options(repr.plot.height=4,repr.plot.width=6,repr.plot.res = 300)\n",
    "\n",
    "plot(cl$hc)"
   ]
  },
  {
   "cell_type": "code",
   "execution_count": null,
   "metadata": {},
   "outputs": [],
   "source": [
    "## cutree doesn't distinguish noise as 0, so we make a new method to do it manually \n",
    "cut_tree <- function(hcl, eps, core_dist){\n",
    "  cuts <- cutree(hcl, h=eps)\n",
    "  cuts[which(core_dist > eps)] <- 0 # Use core distance to distinguish noise\n",
    "  cuts\n",
    "}\n",
    "core_dist <- kNNdist(df[,c(\"x\",\"y\")], k=cl$minPts-1)\n",
    "plot(sort(core_dist),t='l')\n",
    "options(repr.plot.height=2,repr.plot.width=6,repr.plot.res = 300)"
   ]
  },
  {
   "cell_type": "code",
   "execution_count": null,
   "metadata": {},
   "outputs": [],
   "source": [
    "eps_value=0.7\n",
    "#eps_value=1.2\n",
    "#eps_value=1.5\n",
    "\n",
    "cut_cl <- cut_tree(cl$hc, eps_value, core_dist)\n",
    "\n",
    "dbscan_cl <- dbscan(df[,c(\"x\",\"y\")], eps = eps_value, minPts = minPts, borderPoints = F) # DBSCAN* doesn't include border points\n",
    "\n",
    "(all.equal(rle(cut_cl)$lengths, rle(dbscan_cl$cluster)$lengths) == \"TRUE\")\n",
    "# Ejemplo de como funciona rle\n",
    "#c(rep(6:10, 1:5),6,6)\n",
    "#rle(c(rep(6:10, 1:5),6,6))"
   ]
  },
  {
   "cell_type": "code",
   "execution_count": null,
   "metadata": {},
   "outputs": [],
   "source": [
    "#cut_cl<-cutree(cl$hc, h=1.2)\n",
    "table(cut_cl)\n",
    "table(dbscan_cl$cluster)"
   ]
  },
  {
   "cell_type": "code",
   "execution_count": null,
   "metadata": {},
   "outputs": [],
   "source": [
    "\n",
    "df$cluster<-factor(cut_cl)\n",
    "#df$cluster<-factor(dbscan_cl$cluster)\n",
    "ggplot(df,aes(x=x,y=y,color=cluster))+geom_point(size=0.1)"
   ]
  },
  {
   "cell_type": "markdown",
   "metadata": {},
   "source": [
    "#### Estabilidad de clusters"
   ]
  },
  {
   "cell_type": "code",
   "execution_count": null,
   "metadata": {},
   "outputs": [],
   "source": [
    "cl <- hdbscan(df[,c(\"x\",\"y\")], minPts = minPts,gen_simplified_tree=TRUE,gen_hdbscan_tree=TRUE)\n",
    "cl"
   ]
  },
  {
   "cell_type": "code",
   "execution_count": null,
   "metadata": {},
   "outputs": [],
   "source": [
    "df$cluster<-as.factor(cl$cluster)\n",
    "options(repr.plot.height=2,repr.plot.width=6,repr.plot.res = 300)\n",
    "ggplot(df,aes(x=x,y=y,color=cluster))+geom_point(size=0.1)"
   ]
  },
  {
   "cell_type": "markdown",
   "metadata": {},
   "source": [
    "Para calcular la estabilidad definimos $\\lambda=\\frac{1}{\\varepsilon}$. Suponiendo que vamos probando con valores $\\varepsilon$ decrecientes, lo que equivale a $\\lambda$ creciente. Para un cluster podemos definir los valores $\\lambda_{birth}$ y $\\lambda_{death}$ como el valor de $\\lambda$ en el cual el cluster aparece (como división de un cluster mayor) y desaparece al dividirse en clusters más pequeños.\n",
    "\n",
    "Podemos definir $\\lambda_p$ como el valor en el intervalo $[\\lambda_{birth},\\lambda_{death}]$ en el cual el punto $p$ se escapa del cluster estudiado. \n",
    "\n",
    "Se define la estabilidad de un cluster como:\n",
    "\\\\[\n",
    "\\sum_p\\in{cluster} (\\lambda_p - \\lambda_{birth})\n",
    "\\\\]\n",
    "\n",
    "Finalmente se hace un recorrido de abajo a arriba del arbol. Empezando por las hojas calculamos la estabilidad de cada uno de los clusters que van saliendo a medida que subimos (disminuimos $\\lambda$):\n",
    "\n",
    "* Si estabilidad cluster >= suma estabilidad hijos : Dejamos la estabilidad del cluster como está\n",
    "* Si estabilidad cluster <  suma estabilidad hijos : Definimos la estabilid del cluster como la suma de estabilidad de los hijos.\n",
    "\n",
    "En estos diagramas se ve mejor. La anchura representa el número de puntos que hay en cada cluster en cada momento para un $\\varepsilon$ dado. El área representa su estabilidad. El cluster óptimo que devuelve HDBSCAN es aquellos cuyos clusters tengan un mayor area.\n",
    "\n",
    "En esos clusters de mayor area, se normaliza el valor $\\lambda_p$ entre [0,1] para ver el grado de afinidad del punto $p$ a su cluster. Ese valor se almacena en *membership_prob*."
   ]
  },
  {
   "cell_type": "code",
   "execution_count": null,
   "metadata": {},
   "outputs": [],
   "source": [
    "options(repr.plot.height=4,repr.plot.width=6,repr.plot.res = 300)\n",
    "\n",
    "plot(cl, show_flat = T)"
   ]
  },
  {
   "cell_type": "code",
   "execution_count": null,
   "metadata": {},
   "outputs": [],
   "source": [
    "print(cl$cluster_scores)"
   ]
  },
  {
   "cell_type": "code",
   "execution_count": null,
   "metadata": {},
   "outputs": [],
   "source": [
    "options(repr.plot.height=4,repr.plot.width=6,repr.plot.res = 300)\n",
    "\n",
    "cl <- hdbscan(df[,c(\"x\",\"y\")], minPts = 20,gen_simplified_tree=TRUE,gen_hdbscan_tree=TRUE)\n",
    "cl\n",
    "plot(cl, show_flat = T,scale=3)"
   ]
  },
  {
   "cell_type": "code",
   "execution_count": null,
   "metadata": {},
   "outputs": [],
   "source": [
    "print(cl$cluster_scores)"
   ]
  },
  {
   "cell_type": "markdown",
   "metadata": {},
   "source": [
    "### Ejemplo con diagrama H-R"
   ]
  },
  {
   "cell_type": "code",
   "execution_count": null,
   "metadata": {},
   "outputs": [],
   "source": [
    "cl <- hdbscan(hr[,c(\"norm_Mv\",\"norm_BV\")], minPts = 30,gen_simplified_tree=TRUE,gen_hdbscan_tree=TRUE)\n",
    "cl"
   ]
  },
  {
   "cell_type": "code",
   "execution_count": null,
   "metadata": {},
   "outputs": [],
   "source": [
    "hr$cluster<-as.factor(cl$cluster)\n",
    "ggplot(hr,aes(y=norm_Mv,x=norm_BV,color=cluster))+geom_point(size=0.01)+scale_y_reverse()"
   ]
  },
  {
   "cell_type": "code",
   "execution_count": null,
   "metadata": {},
   "outputs": [],
   "source": [
    "plot(cl)"
   ]
  },
  {
   "cell_type": "code",
   "execution_count": null,
   "metadata": {},
   "outputs": [],
   "source": [
    "plot(cl,  scale=3, show_flat = T)"
   ]
  },
  {
   "cell_type": "code",
   "execution_count": null,
   "metadata": {},
   "outputs": [],
   "source": [
    "print(cl$cluster_scores)"
   ]
  },
  {
   "cell_type": "code",
   "execution_count": null,
   "metadata": {},
   "outputs": [],
   "source": [
    "hr$cluster<-as.factor(cl$cluster)\n",
    "hr$membership_prob <- cl$membership_prob\n",
    "ggplot(hr,aes(y=norm_Mv,x=norm_BV,color=cluster,alpha=membership_prob))+geom_point(size=0.01)+scale_y_reverse()"
   ]
  },
  {
   "cell_type": "code",
   "execution_count": null,
   "metadata": {},
   "outputs": [],
   "source": [
    "cl <- hdbscan(hr[,c(\"norm_Mv\",\"norm_BV\")], minPts = 7,gen_simplified_tree=TRUE,gen_hdbscan_tree=TRUE)\n",
    "hr$cluster<-as.factor(cl$cluster)\n",
    "hr$membership_prob <- cl$membership_prob\n",
    "ggplot(hr,aes(y=norm_Mv,x=norm_BV,color=cluster,alpha=membership_prob))+geom_point(size=0.01)+scale_y_reverse()"
   ]
  },
  {
   "cell_type": "code",
   "execution_count": null,
   "metadata": {},
   "outputs": [],
   "source": [
    "plot(cl)"
   ]
  },
  {
   "cell_type": "code",
   "execution_count": null,
   "metadata": {},
   "outputs": [],
   "source": []
  }
 ],
 "metadata": {
  "kernelspec": {
   "display_name": "R",
   "language": "R",
   "name": "ir"
  },
  "language_info": {
   "codemirror_mode": "r",
   "file_extension": ".r",
   "mimetype": "text/x-r-source",
   "name": "R",
   "pygments_lexer": "r",
   "version": "4.1.0"
  }
 },
 "nbformat": 4,
 "nbformat_minor": 2
}
