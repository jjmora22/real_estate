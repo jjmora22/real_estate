{
 "cells": [
  {
   "cell_type": "markdown",
   "metadata": {},
   "source": [
    "# Introducción\n",
    "\n",
    "\n",
    "![](img/Diagrama.jpg)\n"
   ]
  },
  {
   "cell_type": "markdown",
   "metadata": {},
   "source": [
    "# Bibliografía\n",
    "\n",
    "**An Introduction to Statistical Learning**: Gareth James, Daniela Witten et al.\n",
    "https://www.statlearning.com/\n",
    "\n",
    "**Pattern Recognition and Machine Learning**, M.Bishop: \n",
    "http://users.isr.ist.utl.pt/~wurmd/Livros/school/Bishop%20-%20Pattern%20Recognition%20And%20Machine%20Learning%20-%20Springer%20%202006.pdf\n",
    "\n",
    "**Deep Learning**, Ian Goodfellow\n",
    "http://www.deeplearningbook.org/"
   ]
  },
  {
   "cell_type": "markdown",
   "metadata": {},
   "source": [
    "# Aprendizaje máquina vs Minería de Datos vs Estadística\n",
    "\n",
    "\n",
    "### Estadística\n",
    "\n",
    "En estadística vimos como realizar un análisis exploratorio de datos. Sabemos usar:\n",
    "* Histogramas/Curvas de probabilidad/Kernel density estimation\n",
    "* Diagramas de cajas (Boxplot)\n",
    "* Comparar poblaciones: Tests estadísticos\n",
    "* Entender como afectan una o varias variables a nuestros datos: Test estadísticos y regresiones\n",
    "\n",
    "Siempre analizabamos el 100% de nuestros datos. Obteníamos una descripción detallada de nuestra población.\n",
    "No haciamos predicciones\n",
    "\n",
    "### Minería de datos\n",
    "\n",
    "Utilizado para extraer información, conocimiento, útil de los datos en bruto.\n",
    "\n",
    "### Aprendizaje máquina\n",
    "\n",
    "En el aprendizaje máquina tenemos algoritmos que dados unos datos de entrada, es capaz de *aprender* como se comportan esos datos en función de los parámetros de entrada. \n",
    "\n",
    "El objetivo **no** es entender como afecta una variable o varias variables a nuestros datos.\n",
    "\n",
    "El **objetivo** es **generalizar** el problema. Cuando llegue una variable con un valor que no ha visto nunca antes, es capaz de hacer una **estimación** lo suficientemente correcta."
   ]
  },
  {
   "cell_type": "markdown",
   "metadata": {},
   "source": [
    "# Jerarquía del conocimiento\n",
    "\n",
    "https://es.wikipedia.org/wiki/Jerarqu%C3%ADa_del_conocimiento\n",
    "\n",
    "La \"Jerarquía del Conocimiento\", también conocida como \"Jerarquía DIKW\", o \"Pirámide del Conocimiento\", podría ser definida como un conjunto de modelos para representar las relaciones aparentemente estructurales entre Datos, Información, Conocimiento, y en algunos casos Sabiduría.\n",
    "\n",
    "![](https://upload.wikimedia.org/wikipedia/commons/thumb/0/06/DIKW_Pyramid.svg/494px-DIKW_Pyramid.svg.png)\n",
    "\n",
    "Por lo general:\n",
    "* Información se define en términos de Datos.\n",
    "* Conocimiento se define en términos de Información.\n",
    "* Sabiduría en términos de Conocimiento.\n",
    "\n",
    "\n",
    "\n",
    "![](https://pbs.twimg.com/media/EfYiz2AWsAAiPxh?format=jpg&name=small)"
   ]
  },
  {
   "cell_type": "markdown",
   "metadata": {},
   "source": [
    "# Modelos estadísticos\n",
    "\n",
    "https://xkcd.com/1838/\n",
    "![](https://imgs.xkcd.com/comics/machine_learning.png)\n",
    "\n",
    "\n",
    "Un modelo no es más que un conjunto de operaciones matemáticas a las cuales le das una entrada te propone una salida.\n",
    "\n",
    "Todos los modelos son erróneos, pero algunos son útiles. https://en.wikipedia.org/wiki/All_models_are_wrong\n",
    "\n",
    "Ejemplo de modelo útil sobre el [movimiento de los planetas](https://en.wikipedia.org/wiki/Apparent_retrograde_motion)\n",
    "\n",
    "![](https://upload.wikimedia.org/wikipedia/commons/thumb/7/70/Apparent_retrograde_motion_of_Mars_in_2003.gif/375px-Apparent_retrograde_motion_of_Mars_in_2003.gif)\n",
    "\n",
    "\n",
    "![](https://upload.wikimedia.org/wikipedia/commons/thumb/2/29/Ptolemaic_elements.svg/375px-Ptolemaic_elements.svg.png)\n",
    "\n",
    "\n",
    "![](https://upload.wikimedia.org/wikipedia/commons/thumb/2/28/Copernican_heliocentrism_diagram-2.jpg/450px-Copernican_heliocentrism_diagram-2.jpg)"
   ]
  },
  {
   "cell_type": "markdown",
   "metadata": {},
   "source": [
    "### Aprendizaje supervisado\n",
    "\n",
    "\n",
    "En el aprendizaje supervisado nosotros enseñamos entradas y salidas. \n",
    "\n",
    "El algoritmo creará una **función** a partir de esos ejemplos. Este proceso se llama **entrenamiento**. El entrenamiento donde el algoritmo aprende.\n",
    "\n",
    "Cuando le damos **datos nuevos**, una **función entrenada** nos dará el resultado correcto. \n",
    "\n",
    "\n",
    "![](./img/CajaNegra.png)\n",
    "\n"
   ]
  },
  {
   "cell_type": "markdown",
   "metadata": {},
   "source": [
    "## Ejemplo de aprendizaje supervisado\n",
    "\n",
    "Recordemos de estadística lo que era una regresión lineal:\n",
    "\n",
    "Es un modelo matemático usado para aproximar la relación de dependencia entre una variable dependiente $Y$, las variables independientes $X_i$ y un término aleatorio $\\varepsilon$. Este modelo puede ser expresado como:\n",
    "\n",
    "\\\\[\n",
    "Y=\\beta_1 X_1+\\beta_2 X_2+\\cdots +\\beta_p X_p+\\varepsilon = \\sum \\beta_k X_k+\\varepsilon\n",
    "\\\\]\n",
    "\n",
    "Un modelo de aprendizaje supervisado va a aprender de unos ejemplos que le pasemos de la forma más general posible. Así la próxima vez que le mostremos datos nuevos dará un resultado confiable."
   ]
  },
  {
   "cell_type": "code",
   "execution_count": null,
   "metadata": {},
   "outputs": [],
   "source": [
    "library(\"dslabs\")"
   ]
  },
  {
   "cell_type": "markdown",
   "metadata": {},
   "source": [
    "Vamos a simular que soltamos un objeto desde lo alto de la torre de Pisa (55.86m) y medimos la distancia hasta al suelo que ese objeto presenta pasados $t$ segundos.\n",
    "\n",
    "Evientemente, nuestras medidas tendrán un error, por eso vamos a tomar varias medidas y repetir el experimento varias veces."
   ]
  },
  {
   "cell_type": "code",
   "execution_count": null,
   "metadata": {},
   "outputs": [],
   "source": [
    "data_train<-rfalling_object(n = 10)[c(\"time\",\"observed_distance\")]\n",
    "head(data_train)"
   ]
  },
  {
   "cell_type": "code",
   "execution_count": null,
   "metadata": {},
   "outputs": [],
   "source": [
    "data_train<-rbind(data_train,rfalling_object(n = 5)[c(\"time\",\"observed_distance\")])\n",
    "data_train<-rbind(data_train,rfalling_object(n = 7)[c(\"time\",\"observed_distance\")])\n",
    "data_train<-rbind(data_train,rfalling_object(n = 20)[c(\"time\",\"observed_distance\")])"
   ]
  },
  {
   "cell_type": "code",
   "execution_count": null,
   "metadata": {},
   "outputs": [],
   "source": [
    "library(ggplot2)\n",
    "options(repr.plot.height=6,repr.plot.width=8)\n",
    "ggplot(data_train, aes(x=time,y=observed_distance))+geom_point(size=1,color=\"blue\")"
   ]
  },
  {
   "cell_type": "code",
   "execution_count": null,
   "metadata": {},
   "outputs": [],
   "source": [
    "ggplot(data_train, aes(x=time,y=observed_distance))+geom_point(size=1,color=\"blue\")+geom_smooth(method='lm',color=\"red\")"
   ]
  },
  {
   "cell_type": "code",
   "execution_count": null,
   "metadata": {},
   "outputs": [],
   "source": [
    "model <- lm(formula=observed_distance~time, data=data_train)\n",
    "summary(model)"
   ]
  },
  {
   "cell_type": "markdown",
   "metadata": {},
   "source": [
    "En este caso estamos tratando de mejorar el error cuadrático medio:\n",
    "\n",
    "Estamos tratando de minimizar la función de error."
   ]
  },
  {
   "cell_type": "code",
   "execution_count": null,
   "metadata": {},
   "outputs": [],
   "source": [
    "sqrt(mean((data_train$observed_distance-model$fitted.values)^2))"
   ]
  },
  {
   "cell_type": "markdown",
   "metadata": {},
   "source": [
    "La próxima vez que tengamos datos nuevos, podremos realizar una estimación del resultado esperado."
   ]
  },
  {
   "cell_type": "code",
   "execution_count": null,
   "metadata": {},
   "outputs": [],
   "source": [
    "data_test<-data.frame(time=c(1,3,5))\n",
    "predict(model,data_test)"
   ]
  },
  {
   "cell_type": "markdown",
   "metadata": {},
   "source": [
    "Pero atentos, el modelo solo puede generalizar cuando los datos son parecidos a los que hemos visto. \n",
    "\n",
    "Aquí el modelo falla en predecir que una vez que el objeto toca el suelo no va a seguir cayendo."
   ]
  },
  {
   "cell_type": "markdown",
   "metadata": {},
   "source": [
    "### Aprendizaje NO supervisado \n",
    "\n",
    "Encuentra estructuras en los datos sin necesidad de intervención externa.\n",
    "\n",
    "Nos puede servir para agrupar datos por similitud."
   ]
  },
  {
   "cell_type": "code",
   "execution_count": null,
   "metadata": {},
   "outputs": [],
   "source": [
    "head(olive)"
   ]
  },
  {
   "cell_type": "code",
   "execution_count": null,
   "metadata": {},
   "outputs": [],
   "source": [
    "library(GGally)\n",
    "options(repr.plot.height=8,repr.plot.width=8)\n",
    "ggpairs(olive[,c(\"palmitic\",\"palmitoleic\",\"stearic\",\"oleic\",\"linoleic\",\"linolenic\",\"arachidic\",\"eicosenoic\")],\n",
    "       lower = list(continuous = wrap(\"points\", alpha = 0.3,size=0.1,color='blue'))\n",
    "       )"
   ]
  },
  {
   "cell_type": "code",
   "execution_count": null,
   "metadata": {},
   "outputs": [],
   "source": []
  }
 ],
 "metadata": {
  "kernelspec": {
   "display_name": "R",
   "language": "R",
   "name": "ir"
  },
  "language_info": {
   "codemirror_mode": "r",
   "file_extension": ".r",
   "mimetype": "text/x-r-source",
   "name": "R",
   "pygments_lexer": "r",
   "version": "4.1.0"
  }
 },
 "nbformat": 4,
 "nbformat_minor": 2
}
